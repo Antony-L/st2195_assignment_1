{
 "cells": [
  {
   "cell_type": "markdown",
   "id": "15a022f4",
   "metadata": {},
   "source": [
    "# Title: Jupyter notebook\n",
    "## Author: Yi-Jun Liu\n",
    "## Date: \"2023-11-08\""
   ]
  },
  {
   "cell_type": "markdown",
   "id": "adacd809",
   "metadata": {},
   "source": [
    "### Integer Printing Program\n",
    "This program prints integers from 1 to 10."
   ]
  },
  {
   "cell_type": "code",
   "execution_count": 1,
   "id": "53ca4ae5",
   "metadata": {},
   "outputs": [
    {
     "name": "stdout",
     "output_type": "stream",
     "text": [
      "1\n",
      "2\n",
      "3\n",
      "4\n",
      "5\n",
      "6\n",
      "7\n",
      "8\n",
      "9\n",
      "10\n"
     ]
    }
   ],
   "source": [
    "i = 1\n",
    "\n",
    "for i in range(1, 11):\n",
    "    print(i)"
   ]
  }
 ],
 "metadata": {
  "kernelspec": {
   "display_name": "Python 3 (ipykernel)",
   "language": "python",
   "name": "python3"
  },
  "language_info": {
   "codemirror_mode": {
    "name": "ipython",
    "version": 3
   },
   "file_extension": ".py",
   "mimetype": "text/x-python",
   "name": "python",
   "nbconvert_exporter": "python",
   "pygments_lexer": "ipython3",
   "version": "3.11.5"
  }
 },
 "nbformat": 4,
 "nbformat_minor": 5
}
